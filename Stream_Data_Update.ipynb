{
 "cells": [
  {
   "cell_type": "code",
   "execution_count": 1,
   "metadata": {},
   "outputs": [],
   "source": [
    "import arcpy\n",
    "from datetime import datetime\n",
    "import os\n",
    "import sys\n",
    "from sqlalchemy.engine import URL\n",
    "from sqlalchemy import create_engine\n",
    "import sqlalchemy as sa\n",
    "import pandas as pd\n",
    "from arcgis.features import FeatureSet, GeoAccessor, GeoSeriesAccessor\n",
    "\n"
   ]
  },
  {
   "cell_type": "code",
   "execution_count": 7,
   "metadata": {},
   "outputs": [],
   "source": [
    "# Import raw tabular data from csv\n",
    "csci_data = pd.read_csv('Raw_Data\\csci_data.csv')"
   ]
  },
  {
   "cell_type": "code",
   "execution_count": 11,
   "metadata": {},
   "outputs": [],
   "source": [
    "# Pivot to new format\n",
    "grouping_columns = ['StationCode','STREAM_NAME', 'COUNTY']\n",
    "csci_data_flat = csci_data.pivot(index=grouping_columns, columns='SAMPLEDATE',values='CSCI')\n",
    "csci_data_flat = csci_data_flat.reset_index()"
   ]
  },
  {
   "cell_type": "code",
   "execution_count": null,
   "metadata": {},
   "outputs": [],
   "source": [
    "#Code to create stream csci sampling stations\n",
    "stream_csci_input_layer = \"import\"\n",
    "unique_stream_samples = \"\"\n",
    "\n",
    "stations=[]\n",
    "# Create a search cursor to iterate through the original feature layer\n",
    "with arcpy.da.SearchCursor(stream_csci_input_layer, ['SITE_NAME']) as cursor:\n",
    "    for row in cursor:\n",
    "        value = row[0]\n",
    "        if value not in stations:\n",
    "            stations.append(value)\n",
    "\n",
    "# Create an insert cursor for the output feature layer\n",
    "with arcpy.da.InsertCursor(output_feature_layer, [unique_column]) as cursor:\n",
    "    for value in unique_values:\n",
    "        cursor.insertRow((value,))\n",
    "\n",
    "# Clean up\n",
    "del cursor\n",
    "\n",
    "# Optionally, save the output feature layer to a file\n",
    "arcpy.CopyFeatures_management(output_feature_layer, \"C:/Path/To/Your/Output/FeatureClassFile\")"
   ]
  },
  {
   "cell_type": "code",
   "execution_count": null,
   "metadata": {},
   "outputs": [],
   "source": [
    "#New feature class with the sampling station\n",
    "\n",
    "merged_df = pd.merge(sdfCensus, tdc_flat, on='TRPAID', how='inner')\n",
    "columns_drop=['GlobalID', 'YEAR', 'created_date', 'created_user', 'last_edited_date', 'last_edited_user', 'Shape.STArea()', 'Shape.STLength()']\n",
    "merged_df = merged_df.drop(columns=columns_drop)"
   ]
  }
 ],
 "metadata": {
  "kernelspec": {
   "display_name": "Python 3",
   "language": "python",
   "name": "python3"
  },
  "language_info": {
   "codemirror_mode": {
    "name": "ipython",
    "version": 3
   },
   "file_extension": ".py",
   "mimetype": "text/x-python",
   "name": "python",
   "nbconvert_exporter": "python",
   "pygments_lexer": "ipython3",
   "version": "3.9.16"
  }
 },
 "nbformat": 4,
 "nbformat_minor": 2
}
